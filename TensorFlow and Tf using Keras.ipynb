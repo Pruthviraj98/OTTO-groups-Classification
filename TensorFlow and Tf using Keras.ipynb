{
 "cells": [
  {
   "cell_type": "code",
   "execution_count": 1,
   "metadata": {},
   "outputs": [
    {
     "name": "stderr",
     "output_type": "stream",
     "text": [
      "C:\\Users\\admin\\Anaconda3\\lib\\site-packages\\h5py\\__init__.py:36: FutureWarning: Conversion of the second argument of issubdtype from `float` to `np.floating` is deprecated. In future, it will be treated as `np.float64 == np.dtype(float).type`.\n",
      "  from ._conv import register_converters as _register_converters\n"
     ]
    }
   ],
   "source": [
    "import tensorflow as tf"
   ]
  },
  {
   "cell_type": "code",
   "execution_count": 2,
   "metadata": {},
   "outputs": [],
   "source": [
    "import pandas as pd\n",
    "import numpy as np\n",
    "import matplotlib.pyplot as plt\n",
    "from sklearn.preprocessing import StandardScaler\n",
    "from sklearn.preprocessing import OneHotEncoder, LabelEncoder\n",
    "from sklearn.model_selection import train_test_split"
   ]
  },
  {
   "cell_type": "code",
   "execution_count": 3,
   "metadata": {},
   "outputs": [],
   "source": [
    "X_train=np.loadtxt('C:\\\\Users\\\\admin\\\\Desktop\\\\keras\\\\all\\\\train.csv', delimiter=\",\", usecols=range(1, 94), skiprows=1)\n",
    "X_test=np.loadtxt('C:\\\\Users\\\\admin\\\\Desktop\\\\keras\\\\all\\\\test.csv', delimiter=\",\", usecols=range(1, 94), skiprows=1)\n",
    "\n",
    "labels=np.genfromtxt('C:\\\\Users\\\\admin\\\\Desktop\\\\keras\\\\all\\\\train.csv', delimiter=\",\", usecols=(94),dtype='str', skip_header=1)"
   ]
  },
  {
   "cell_type": "code",
   "execution_count": 4,
   "metadata": {},
   "outputs": [
    {
     "data": {
      "text/plain": [
       "array(['Class_1', 'Class_2', 'Class_3', 'Class_4', 'Class_5', 'Class_6',\n",
       "       'Class_7', 'Class_8', 'Class_9'], dtype='<U7')"
      ]
     },
     "execution_count": 4,
     "metadata": {},
     "output_type": "execute_result"
    }
   ],
   "source": [
    "np.unique(labels)"
   ]
  },
  {
   "cell_type": "code",
   "execution_count": 5,
   "metadata": {},
   "outputs": [],
   "source": [
    "scale=StandardScaler()\n",
    "X_train=scale.fit_transform(X_train)\n",
    "X_test=scale.fit_transform(X_test)"
   ]
  },
  {
   "cell_type": "code",
   "execution_count": 6,
   "metadata": {},
   "outputs": [],
   "source": [
    "enc=OneHotEncoder()\n",
    "lbl=LabelEncoder()\n",
    "labels= LabelEncoder().fit_transform(labels.ravel())\n",
    "trans_labels=labels.reshape(-1,1)\n",
    "Y_train=enc.fit_transform(trans_labels).toarray()"
   ]
  },
  {
   "cell_type": "code",
   "execution_count": 7,
   "metadata": {},
   "outputs": [
    {
     "name": "stdout",
     "output_type": "stream",
     "text": [
      "9 Classes\n",
      "93 dims\n"
     ]
    }
   ],
   "source": [
    "nb_classes=Y_train.shape[1]\n",
    "dims=X_train.shape[1]\n",
    "print(nb_classes, \"Classes\")\n",
    "print(dims, \"dims\")"
   ]
  },
  {
   "cell_type": "markdown",
   "metadata": {},
   "source": [
    "## using TensorFlow"
   ]
  },
  {
   "cell_type": "code",
   "execution_count": 8,
   "metadata": {},
   "outputs": [],
   "source": [
    "learning_rate=0.01\n",
    "training_epochs=25\n",
    "display_step=1"
   ]
  },
  {
   "cell_type": "code",
   "execution_count": 9,
   "metadata": {},
   "outputs": [],
   "source": [
    "x=tf.placeholder(\"float\", [None, dims])\n",
    "y=tf.placeholder(\"float\", [None, nb_classes])"
   ]
  },
  {
   "cell_type": "markdown",
   "metadata": {},
   "source": [
    "## Model"
   ]
  },
  {
   "cell_type": "code",
   "execution_count": 10,
   "metadata": {},
   "outputs": [],
   "source": [
    "with tf.name_scope(\"model\") as scope:\n",
    "    W=tf.Variable(tf.zeros([dims, nb_classes]))\n",
    "    b=tf.Variable(tf.zeros([nb_classes]))\n",
    "    activation=tf.nn.softmax(tf.matmul(x, W)+b)\n",
    "    \n",
    "    w_h=tf.summary.histogram(\"weights_histogram\", W)\n",
    "    b_h=tf.summary.histogram(\"biasses_histogram\", b)\n",
    "    tf.summary.scalar('mean_weights', tf.reduce_mean(W))\n",
    "    tf.summary.scalar('mean_bias', tf.reduce_mean(b))\n",
    "\n",
    "#minimize error by optimizing crossEntropy\n",
    "with tf.name_scope(\"cost_function\") as scope:\n",
    "    cross_entropy=y*tf.log(activation)\n",
    "    cost=tf.reduce_mean(-tf.reduce_sum(cross_entropy, reduction_indices=1))\n",
    "    \n",
    "    #create the summary to monitor costFunction\n",
    "    tf.summary.scalar(\"cost_function\", cost)\n",
    "    tf.summary.histogram(\"cost_histogram\", cost)\n",
    "\n",
    "with tf.name_scope(\"train\") as scope:\n",
    "    #Set the optimizer\n",
    "    optimiser=tf.train.GradientDescentOptimizer(learning_rate).minimize(cost)"
   ]
  },
  {
   "cell_type": "markdown",
   "metadata": {},
   "source": [
    "## Accuracy"
   ]
  },
  {
   "cell_type": "code",
   "execution_count": 11,
   "metadata": {},
   "outputs": [],
   "source": [
    "with tf.name_scope(\"Accuracy\") as scope:\n",
    "    correct_prediction=tf.equal(tf.argmax(activation, 1), tf.argmax(y, 1))\n",
    "    #calculate accuracy\n",
    "    accuracy=tf.reduce_mean(tf.cast(correct_prediction, \"float\"))\n",
    "    #create a summary to monitor the costFunction\n",
    "    tf.summary.scalar('accuracy', accuracy)"
   ]
  },
  {
   "cell_type": "markdown",
   "metadata": {},
   "source": [
    "## Creating Session for TF"
   ]
  },
  {
   "cell_type": "code",
   "execution_count": null,
   "metadata": {},
   "outputs": [],
   "source": [
    "# LOGDIR=\"/temp/logistic_logs\"\n",
    "# import os, shutil\n",
    "# if os.path.indir(LOGDIR):\n",
    "#     shutil.rmtree(LOGDIR)\n",
    "# os.mkdir(LOGDIR)\n",
    "# writer=tf.summary.FileWriter(LOGDIR, graph=tf.get_default_graph())"
   ]
  },
  {
   "cell_type": "code",
   "execution_count": 12,
   "metadata": {},
   "outputs": [
    {
     "name": "stdout",
     "output_type": "stream",
     "text": [
      "model/weights_histogram:0\n",
      "model/biasses_histogram:0\n",
      "model/mean_weights:0\n",
      "model/mean_bias:0\n",
      "cost_function/cost_function:0\n",
      "cost_function/cost_histogram:0\n",
      "Accuracy/accuracy:0\n",
      "Tensor(\"add:0\", shape=(), dtype=string)\n"
     ]
    }
   ],
   "source": [
    "for var in tf.get_collection(tf.GraphKeys.SUMMARIES):\n",
    "    print(var.name)\n",
    "summary_op=tf.summary.merge_all()\n",
    "print('Summary Op:'+ summary_op)"
   ]
  },
  {
   "cell_type": "code",
   "execution_count": 13,
   "metadata": {},
   "outputs": [
    {
     "name": "stdout",
     "output_type": "stream",
     "text": [
      "accuracy epoch 0:0.664969801902771\n",
      "accuracy epoch 1:0.6653576493263245\n",
      "accuracy epoch 2:0.6657131910324097\n",
      "accuracy epoch 3:0.6659879088401794\n",
      "accuracy epoch 4:0.6662626266479492\n",
      "accuracy epoch 5:0.6665858626365662\n",
      "accuracy epoch 6:0.6668282747268677\n",
      "accuracy epoch 7:0.6671029925346375\n",
      "accuracy epoch 8:0.6674585342407227\n",
      "accuracy epoch 9:0.6678140759468079\n",
      "accuracy epoch 10:0.6680726408958435\n",
      "accuracy epoch 11:0.6682665944099426\n",
      "accuracy epoch 12:0.6684443354606628\n",
      "accuracy epoch 13:0.6687352657318115\n",
      "accuracy epoch 14:0.6690422892570496\n",
      "accuracy epoch 15:0.6692362427711487\n",
      "accuracy epoch 16:0.6694948077201843\n",
      "accuracy epoch 17:0.6697372198104858\n",
      "accuracy epoch 18:0.6699634790420532\n",
      "accuracy epoch 19:0.670238196849823\n",
      "accuracy epoch 20:0.6705291271209717\n",
      "accuracy epoch 21:0.6708361506462097\n",
      "accuracy epoch 22:0.6710947155952454\n",
      "accuracy epoch 23:0.671353280544281\n",
      "accuracy epoch 24:0.671676516532898\n",
      "Training phase finished\n"
     ]
    },
    {
     "data": {
      "image/png": "[encoded data removed]",
      "text/plain": [
       "<Figure size 432x288 with 1 Axes>"
      ]
     },
     "metadata": {},
     "output_type": "display_data"
    },
    {
     "name": "stdout",
     "output_type": "stream",
     "text": [
      "[1 5 5 ... 2 1 1]\n"
     ]
    }
   ],
   "source": [
    "with tf.Session() as session:\n",
    "    #init variables\n",
    "    session.run(tf.global_variables_initializer())\n",
    "    \n",
    "    cost_epochs=[]\n",
    "    #training cycle\n",
    "    \n",
    "    for epoch in range(training_epochs):\n",
    "        _, summary, c=session.run(fetches=[optimiser, summary_op, cost],\n",
    "                                 feed_dict={x:X_train, y:Y_train})\n",
    "        cost_epochs.append(c)\n",
    "      #  writer.add_summary(summary=symmary, global_step=epoch)\n",
    "        print(\"accuracy epoch {}:{}\".format(epoch, accuracy.eval({x:X_train, y:Y_train})))\n",
    "    \n",
    "    print(\"Training phase finished\")\n",
    "    \n",
    "    plt.plot(range(len(cost_epochs)), cost_epochs, \"o\", label=\"Logistic Training plot\")\n",
    "    plt.ylabel(\"Cost\")\n",
    "    plt.xlabel(\"epoch\")\n",
    "    plt.legend()\n",
    "    plt.show()\n",
    "    \n",
    "    prediction=tf.argmax(activation, 1)\n",
    "    print(prediction.eval({x: X_test}))"
   ]
  },
  {
   "cell_type": "markdown",
   "metadata": {},
   "source": [
    "## Using Keras"
   ]
  },
  {
   "cell_type": "code",
   "execution_count": 14,
   "metadata": {},
   "outputs": [
    {
     "name": "stderr",
     "output_type": "stream",
     "text": [
      "Using TensorFlow backend.\n"
     ]
    }
   ],
   "source": [
    "from keras.models import Sequential\n",
    "from keras.layers import Dense, Activation"
   ]
  },
  {
   "cell_type": "code",
   "execution_count": 15,
   "metadata": {
    "scrolled": false
   },
   "outputs": [
    {
     "name": "stdout",
     "output_type": "stream",
     "text": [
      "93 dims\n",
      "building the model....\n",
      "9 classes\n",
      "Epoch 1/10\n",
      "61878/61878 [==============================] - 4s 63us/step - loss: 1.9906\n",
      "Epoch 2/10\n",
      "61878/61878 [==============================] - 3s 45us/step - loss: 1.8360\n",
      "Epoch 3/10\n",
      "61878/61878 [==============================] - 3s 45us/step - loss: 1.7808\n",
      "Epoch 4/10\n",
      "61878/61878 [==============================] - 3s 47us/step - loss: 1.7459\n",
      "Epoch 5/10\n",
      "61878/61878 [==============================] - 3s 48us/step - loss: 1.7208\n",
      "Epoch 6/10\n",
      "61878/61878 [==============================] - 3s 45us/step - loss: 1.7018\n",
      "Epoch 7/10\n",
      "61878/61878 [==============================] - 4s 66us/step - loss: 1.6869\n",
      "Epoch 8/10\n",
      "61878/61878 [==============================] - 3s 44us/step - loss: 1.6749\n",
      "Epoch 9/10\n",
      "61878/61878 [==============================] - 3s 47us/step - loss: 1.6650\n",
      "Epoch 10/10\n",
      "61878/61878 [==============================] - 4s 60us/step - loss: 1.6568\n"
     ]
    },
    {
     "data": {
      "text/plain": [
       "<keras.callbacks.History at 0x15e82d34080>"
      ]
     },
     "execution_count": 15,
     "metadata": {},
     "output_type": "execute_result"
    }
   ],
   "source": [
    "dims=X_train.shape[1]\n",
    "print(dims, 'dims')\n",
    "print(\"building the model....\")\n",
    "\n",
    "nb_classes=Y_train.shape[1]\n",
    "print(nb_classes,\"classes\")\n",
    "\n",
    "#dense =fully connected\n",
    "model=Sequential()\n",
    "model.add(Dense(nb_classes, input_shape=(dims,), activation='sigmoid'))\n",
    "# 1st param: no.of units\n",
    "model.add(Activation('softmax'))\n",
    "model.compile(optimizer='sgd', loss='categorical_crossentropy')\n",
    "model.fit(X_train, Y_train, epochs=10)"
   ]
  },
  {
   "cell_type": "code",
   "execution_count": 19,
   "metadata": {},
   "outputs": [
    {
     "data": {
      "text/plain": [
       "array([1, 5, 5, ..., 2, 1, 1], dtype=int64)"
      ]
     },
     "execution_count": 19,
     "metadata": {},
     "output_type": "execute_result"
    }
   ],
   "source": [
    "y_pred1=model.predict(X_test)\n",
    "y_pred1.argmax(axis=-1)"
   ]
  },
  {
   "cell_type": "code",
   "execution_count": 18,
   "metadata": {},
   "outputs": [
    {
     "name": "stdout",
     "output_type": "stream",
     "text": [
      "_________________________________________________________________\n",
      "Layer (type)                 Output Shape              Param #   \n",
      "=================================================================\n",
      "dense_1 (Dense)              (None, 9)                 846       \n",
      "_________________________________________________________________\n",
      "activation_1 (Activation)    (None, 9)                 0         \n",
      "=================================================================\n",
      "Total params: 846\n",
      "Trainable params: 846\n",
      "Non-trainable params: 0\n",
      "_________________________________________________________________\n"
     ]
    }
   ],
   "source": [
    "model.summary()"
   ]
  },
  {
   "cell_type": "code",
   "execution_count": 44,
   "metadata": {},
   "outputs": [
    {
     "name": "stdout",
     "output_type": "stream",
     "text": [
      "(44706, 93) (44706, 9) (7890, 93) (7890, 9)\n"
     ]
    }
   ],
   "source": [
    "X_train, X_val, Y_train, Y_val=train_test_split(X_train, Y_train, test_size=0.15, random_state=0)\n",
    "print(X_train.shape, Y_train.shape, X_val.shape, Y_val.shape)"
   ]
  },
  {
   "cell_type": "code",
   "execution_count": 45,
   "metadata": {
    "scrolled": true
   },
   "outputs": [
    {
     "name": "stdout",
     "output_type": "stream",
     "text": [
      "Train on 44706 samples, validate on 7890 samples\n",
      "Epoch 1/20\n",
      "44706/44706 [==============================] - 1s 29us/step - loss: 1.2206 - val_loss: 0.8956\n",
      "Epoch 2/20\n",
      "44706/44706 [==============================] - 1s 21us/step - loss: 0.8372 - val_loss: 0.7941\n",
      "Epoch 3/20\n",
      "44706/44706 [==============================] - 1s 21us/step - loss: 0.7728 - val_loss: 0.7522\n",
      "Epoch 4/20\n",
      "44706/44706 [==============================] - 1s 21us/step - loss: 0.7406 - val_loss: 0.7276\n",
      "Epoch 5/20\n",
      "44706/44706 [==============================] - 1s 21us/step - loss: 0.7203 - val_loss: 0.7113\n",
      "Epoch 6/20\n",
      "44706/44706 [==============================] - 1s 21us/step - loss: 0.7062 - val_loss: 0.6998\n",
      "Epoch 7/20\n",
      "44706/44706 [==============================] - 1s 21us/step - loss: 0.6955 - val_loss: 0.6906\n",
      "Epoch 8/20\n",
      "44706/44706 [==============================] - 1s 21us/step - loss: 0.6878 - val_loss: 0.6842\n",
      "Epoch 9/20\n",
      "44706/44706 [==============================] - 1s 21us/step - loss: 0.6812 - val_loss: 0.6782\n",
      "Epoch 10/20\n",
      "44706/44706 [==============================] - 1s 21us/step - loss: 0.6760 - val_loss: 0.6751\n",
      "Epoch 11/20\n",
      "44706/44706 [==============================] - 1s 21us/step - loss: 0.6716 - val_loss: 0.6712\n",
      "Epoch 12/20\n",
      "44706/44706 [==============================] - 1s 26us/step - loss: 0.6680 - val_loss: 0.6681\n",
      "Epoch 13/20\n",
      "44706/44706 [==============================] - 1s 27us/step - loss: 0.6648 - val_loss: 0.6656\n",
      "Epoch 14/20\n",
      "44706/44706 [==============================] - 1s 22us/step - loss: 0.6620 - val_loss: 0.6631\n",
      "Epoch 15/20\n",
      "44706/44706 [==============================] - 1s 22us/step - loss: 0.6596 - val_loss: 0.6621\n",
      "Epoch 16/20\n",
      "44706/44706 [==============================] - 1s 22us/step - loss: 0.6575 - val_loss: 0.6601\n",
      "Epoch 17/20\n",
      "44706/44706 [==============================] - 1s 28us/step - loss: 0.6556 - val_loss: 0.6595\n",
      "Epoch 18/20\n",
      "44706/44706 [==============================] - 1s 24us/step - loss: 0.6539 - val_loss: 0.6578\n",
      "Epoch 19/20\n",
      "44706/44706 [==============================] - 1s 24us/step - loss: 0.6524 - val_loss: 0.6566\n",
      "Epoch 20/20\n",
      "44706/44706 [==============================] - 1s 27us/step - loss: 0.6509 - val_loss: 0.6558\n"
     ]
    },
    {
     "data": {
      "text/plain": [
       "<keras.callbacks.History at 0x15e82d55ef0>"
      ]
     },
     "execution_count": 45,
     "metadata": {},
     "output_type": "execute_result"
    }
   ],
   "source": [
    "model=Sequential()\n",
    "model.add(Dense(100, input_shape=(dims, )))\n",
    "\n",
    "model.add(Dense(nb_classes))\n",
    "model.add(Activation('softmax'))\n",
    "model.compile(optimizer='sgd', loss='categorical_crossentropy')\n",
    "model.fit(X_train, Y_train, validation_data=(X_val, Y_val), epochs=20,\n",
    "         batch_size=120, verbose=True)"
   ]
  },
  {
   "cell_type": "code",
   "execution_count": 46,
   "metadata": {
    "scrolled": true
   },
   "outputs": [
    {
     "name": "stdout",
     "output_type": "stream",
     "text": [
      "_________________________________________________________________\n",
      "Layer (type)                 Output Shape              Param #   \n",
      "=================================================================\n",
      "dense_4 (Dense)              (None, 100)               9400      \n",
      "_________________________________________________________________\n",
      "dense_5 (Dense)              (None, 9)                 909       \n",
      "_________________________________________________________________\n",
      "activation_3 (Activation)    (None, 9)                 0         \n",
      "=================================================================\n",
      "Total params: 10,309\n",
      "Trainable params: 10,309\n",
      "Non-trainable params: 0\n",
      "_________________________________________________________________\n"
     ]
    }
   ],
   "source": [
    "model.summary()"
   ]
  },
  {
   "cell_type": "code",
   "execution_count": 127,
   "metadata": {},
   "outputs": [],
   "source": [
    "model?"
   ]
  },
  {
   "cell_type": "code",
   "execution_count": 47,
   "metadata": {},
   "outputs": [
    {
     "name": "stdout",
     "output_type": "stream",
     "text": [
      "144368/144368 [==============================] - 3s 19us/step\n"
     ]
    }
   ],
   "source": [
    "y_pred=model.predict(X_test, verbose=True)"
   ]
  },
  {
   "cell_type": "code",
   "execution_count": 48,
   "metadata": {},
   "outputs": [
    {
     "data": {
      "text/plain": [
       "array([3, 7, 5, ..., 2, 1, 1], dtype=int64)"
      ]
     },
     "execution_count": 48,
     "metadata": {},
     "output_type": "execute_result"
    }
   ],
   "source": [
    "y_pred.argmax(axis=-1)"
   ]
  },
  {
   "cell_type": "code",
   "execution_count": 49,
   "metadata": {},
   "outputs": [],
   "source": [
    "y_pred2=model.predict(X_val)\n",
    "val_Y=y_pred2.argmax(axis=-1)"
   ]
  },
  {
   "cell_type": "code",
   "execution_count": 51,
   "metadata": {},
   "outputs": [
    {
     "data": {
      "text/plain": [
       "(7890, 9)"
      ]
     },
     "execution_count": 51,
     "metadata": {},
     "output_type": "execute_result"
    }
   ],
   "source": [
    "val_Y.shape\n",
    "Y_val.shape"
   ]
  },
  {
   "cell_type": "code",
   "execution_count": 72,
   "metadata": {},
   "outputs": [],
   "source": [
    "def decode(datum):\n",
    "    return np.argmax(datum)\n",
    "Y_va=[]\n",
    "for i in range(Y_val.shape[0]):\n",
    "    datum = Y_val[i]\n",
    "    decoded_datum = decode(Y_val[i])\n",
    "    Y_va.append(decoded_datum)"
   ]
  },
  {
   "cell_type": "code",
   "execution_count": 75,
   "metadata": {},
   "outputs": [],
   "source": [
    "Yva=np.array(Y_va)"
   ]
  },
  {
   "cell_type": "code",
   "execution_count": 76,
   "metadata": {},
   "outputs": [
    {
     "data": {
      "text/plain": [
       "(7890,)"
      ]
     },
     "execution_count": 76,
     "metadata": {},
     "output_type": "execute_result"
    }
   ],
   "source": [
    "Yva.shape"
   ]
  },
  {
   "cell_type": "code",
   "execution_count": 77,
   "metadata": {},
   "outputs": [
    {
     "data": {
      "text/plain": [
       "0.7591888466413181"
      ]
     },
     "execution_count": 77,
     "metadata": {},
     "output_type": "execute_result"
    }
   ],
   "source": [
    "from sklearn.metrics import accuracy_score\n",
    "accuracy_score(Yva, val_Y)"
   ]
  }
 ],
 "metadata": {
  "kernelspec": {
   "display_name": "Python 3",
   "language": "python",
   "name": "python3"
  },
  "language_info": {
   "codemirror_mode": {
    "name": "ipython",
    "version": 3
   },
   "file_extension": ".py",
   "mimetype": "text/x-python",
   "name": "python",
   "nbconvert_exporter": "python",
   "pygments_lexer": "ipython3",
   "version": "3.6.4"
  }
 },
 "nbformat": 4,
 "nbformat_minor": 2
}
